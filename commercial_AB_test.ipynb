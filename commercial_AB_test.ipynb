{
 "cells": [
  {
   "cell_type": "markdown",
   "id": "56ff98e2-059f-4dc3-bae5-34a132bb2caf",
   "metadata": {},
   "source": [
    "# Задача о рекламных компаниях\n",
    "\n",
    "Компания запустила три рекламные кампании (A, B, C) и хочет оценить их влияние на ключевые бизнес-метрики. У тебя есть данные о пользователях, их взаимодействиях с сайтом и покупках. \n",
    "\n",
    "**Таблицы:**\n",
    "1. Лог посещений сайта (site_visits)\n",
    "2. Действия пользователей (user_actions)\n",
    "3. Покупки (purchases)"
   ]
  },
  {
   "cell_type": "code",
   "execution_count": 111,
   "id": "10c8206f-6880-4370-ad31-3b2e68650086",
   "metadata": {},
   "outputs": [
    {
     "name": "stderr",
     "output_type": "stream",
     "text": [
      "/var/folders/jm/lyl2x71d4p3019zwc7l2sdm40000gn/T/ipykernel_13051/12038745.py:11: FutureWarning: 'T' is deprecated and will be removed in a future version, please use 'min' instead.\n",
      "  'visit_timestamp': pd.date_range(start='2024-02-01', periods=n_users, freq='T')\n",
      "/var/folders/jm/lyl2x71d4p3019zwc7l2sdm40000gn/T/ipykernel_13051/12038745.py:20: FutureWarning: 'T' is deprecated and will be removed in a future version, please use 'min' instead.\n",
      "  'action_timestamp': pd.date_range(start='2024-02-01', periods=n_actions, freq='T')\n",
      "/var/folders/jm/lyl2x71d4p3019zwc7l2sdm40000gn/T/ipykernel_13051/12038745.py:31: FutureWarning: 'T' is deprecated and will be removed in a future version, please use 'min' instead.\n",
      "  'purchase_timestamp': pd.date_range(start='2024-02-01', periods=n_purchases, freq='T')\n"
     ]
    }
   ],
   "source": [
    "import pandas as pd\n",
    "import numpy as np\n",
    "\n",
    "np.random.seed(42)\n",
    "n_users = 6000\n",
    "campaigns = ['A', 'B', 'C']\n",
    "site_visits = pd.DataFrame({\n",
    "    'visit_id': np.arange(1, n_users + 1),\n",
    "    'user_id': np.arange(1001, 1001 + n_users),\n",
    "    'campaign': np.random.choice(campaigns, n_users),\n",
    "    'visit_timestamp': pd.date_range(start='2024-02-01', periods=n_users, freq='T')\n",
    "})\n",
    "\n",
    "actions = ['view', 'add_to_cart', 'purchase']\n",
    "n_actions = 10000\n",
    "user_actions = pd.DataFrame({\n",
    "    'action_id': np.arange(1, n_actions + 1),\n",
    "    'user_id': np.random.choice(site_visits['user_id'], n_actions),\n",
    "    'action': np.random.choice(actions, n_actions, p=[0.7, 0.2, 0.1]),\n",
    "    'action_timestamp': pd.date_range(start='2024-02-01', periods=n_actions, freq='T')\n",
    "})\n",
    "\n",
    "purchase_users = user_actions[user_actions['action'] == 'purchase']['user_id'].unique()\n",
    "n_purchases = len(purchase_users)\n",
    "purchases = pd.DataFrame({\n",
    "    'order_id': np.arange(2001, 2001 + n_purchases),\n",
    "    'user_id': purchase_users,\n",
    "    'campaign': site_visits.set_index('user_id').loc[purchase_users, 'campaign'].values,\n",
    "    'amount': np.random.uniform(50, 500, n_purchases).round(2),\n",
    "    'items_count': np.random.randint(1, 5, n_purchases),\n",
    "    'purchase_timestamp': pd.date_range(start='2024-02-01', periods=n_purchases, freq='T')\n",
    "})"
   ]
  },
  {
   "cell_type": "code",
   "execution_count": 113,
   "id": "9d2c387d-2e5e-4899-b831-74d3d40078ce",
   "metadata": {},
   "outputs": [
    {
     "data": {
      "text/html": [
       "<div>\n",
       "<style scoped>\n",
       "    .dataframe tbody tr th:only-of-type {\n",
       "        vertical-align: middle;\n",
       "    }\n",
       "\n",
       "    .dataframe tbody tr th {\n",
       "        vertical-align: top;\n",
       "    }\n",
       "\n",
       "    .dataframe thead th {\n",
       "        text-align: right;\n",
       "    }\n",
       "</style>\n",
       "<table border=\"1\" class=\"dataframe\">\n",
       "  <thead>\n",
       "    <tr style=\"text-align: right;\">\n",
       "      <th></th>\n",
       "      <th>visit_id</th>\n",
       "      <th>user_id</th>\n",
       "      <th>campaign</th>\n",
       "      <th>visit_timestamp</th>\n",
       "    </tr>\n",
       "  </thead>\n",
       "  <tbody>\n",
       "    <tr>\n",
       "      <th>0</th>\n",
       "      <td>1</td>\n",
       "      <td>1001</td>\n",
       "      <td>C</td>\n",
       "      <td>2024-02-01 00:00:00</td>\n",
       "    </tr>\n",
       "    <tr>\n",
       "      <th>1</th>\n",
       "      <td>2</td>\n",
       "      <td>1002</td>\n",
       "      <td>A</td>\n",
       "      <td>2024-02-01 00:01:00</td>\n",
       "    </tr>\n",
       "    <tr>\n",
       "      <th>2</th>\n",
       "      <td>3</td>\n",
       "      <td>1003</td>\n",
       "      <td>C</td>\n",
       "      <td>2024-02-01 00:02:00</td>\n",
       "    </tr>\n",
       "    <tr>\n",
       "      <th>3</th>\n",
       "      <td>4</td>\n",
       "      <td>1004</td>\n",
       "      <td>C</td>\n",
       "      <td>2024-02-01 00:03:00</td>\n",
       "    </tr>\n",
       "    <tr>\n",
       "      <th>4</th>\n",
       "      <td>5</td>\n",
       "      <td>1005</td>\n",
       "      <td>A</td>\n",
       "      <td>2024-02-01 00:04:00</td>\n",
       "    </tr>\n",
       "  </tbody>\n",
       "</table>\n",
       "</div>"
      ],
      "text/plain": [
       "   visit_id  user_id campaign     visit_timestamp\n",
       "0         1     1001        C 2024-02-01 00:00:00\n",
       "1         2     1002        A 2024-02-01 00:01:00\n",
       "2         3     1003        C 2024-02-01 00:02:00\n",
       "3         4     1004        C 2024-02-01 00:03:00\n",
       "4         5     1005        A 2024-02-01 00:04:00"
      ]
     },
     "execution_count": 113,
     "metadata": {},
     "output_type": "execute_result"
    }
   ],
   "source": [
    "site_visits.head()"
   ]
  },
  {
   "cell_type": "code",
   "execution_count": 115,
   "id": "0457ef8d-9d44-46bc-ab8b-8ba05857c5b8",
   "metadata": {},
   "outputs": [
    {
     "data": {
      "text/html": [
       "<div>\n",
       "<style scoped>\n",
       "    .dataframe tbody tr th:only-of-type {\n",
       "        vertical-align: middle;\n",
       "    }\n",
       "\n",
       "    .dataframe tbody tr th {\n",
       "        vertical-align: top;\n",
       "    }\n",
       "\n",
       "    .dataframe thead th {\n",
       "        text-align: right;\n",
       "    }\n",
       "</style>\n",
       "<table border=\"1\" class=\"dataframe\">\n",
       "  <thead>\n",
       "    <tr style=\"text-align: right;\">\n",
       "      <th></th>\n",
       "      <th>action_id</th>\n",
       "      <th>user_id</th>\n",
       "      <th>action</th>\n",
       "      <th>action_timestamp</th>\n",
       "    </tr>\n",
       "  </thead>\n",
       "  <tbody>\n",
       "    <tr>\n",
       "      <th>0</th>\n",
       "      <td>1</td>\n",
       "      <td>5320</td>\n",
       "      <td>view</td>\n",
       "      <td>2024-02-01 00:00:00</td>\n",
       "    </tr>\n",
       "    <tr>\n",
       "      <th>1</th>\n",
       "      <td>2</td>\n",
       "      <td>1784</td>\n",
       "      <td>view</td>\n",
       "      <td>2024-02-01 00:01:00</td>\n",
       "    </tr>\n",
       "    <tr>\n",
       "      <th>2</th>\n",
       "      <td>3</td>\n",
       "      <td>1950</td>\n",
       "      <td>view</td>\n",
       "      <td>2024-02-01 00:02:00</td>\n",
       "    </tr>\n",
       "    <tr>\n",
       "      <th>3</th>\n",
       "      <td>4</td>\n",
       "      <td>4940</td>\n",
       "      <td>add_to_cart</td>\n",
       "      <td>2024-02-01 00:03:00</td>\n",
       "    </tr>\n",
       "    <tr>\n",
       "      <th>4</th>\n",
       "      <td>5</td>\n",
       "      <td>1045</td>\n",
       "      <td>add_to_cart</td>\n",
       "      <td>2024-02-01 00:04:00</td>\n",
       "    </tr>\n",
       "  </tbody>\n",
       "</table>\n",
       "</div>"
      ],
      "text/plain": [
       "   action_id  user_id       action    action_timestamp\n",
       "0          1     5320         view 2024-02-01 00:00:00\n",
       "1          2     1784         view 2024-02-01 00:01:00\n",
       "2          3     1950         view 2024-02-01 00:02:00\n",
       "3          4     4940  add_to_cart 2024-02-01 00:03:00\n",
       "4          5     1045  add_to_cart 2024-02-01 00:04:00"
      ]
     },
     "execution_count": 115,
     "metadata": {},
     "output_type": "execute_result"
    }
   ],
   "source": [
    "user_actions.head()"
   ]
  },
  {
   "cell_type": "code",
   "execution_count": 117,
   "id": "ab552ea1-9202-41db-99f7-8a52c71f6a7e",
   "metadata": {},
   "outputs": [
    {
     "data": {
      "text/html": [
       "<div>\n",
       "<style scoped>\n",
       "    .dataframe tbody tr th:only-of-type {\n",
       "        vertical-align: middle;\n",
       "    }\n",
       "\n",
       "    .dataframe tbody tr th {\n",
       "        vertical-align: top;\n",
       "    }\n",
       "\n",
       "    .dataframe thead th {\n",
       "        text-align: right;\n",
       "    }\n",
       "</style>\n",
       "<table border=\"1\" class=\"dataframe\">\n",
       "  <thead>\n",
       "    <tr style=\"text-align: right;\">\n",
       "      <th></th>\n",
       "      <th>order_id</th>\n",
       "      <th>user_id</th>\n",
       "      <th>campaign</th>\n",
       "      <th>amount</th>\n",
       "      <th>items_count</th>\n",
       "      <th>purchase_timestamp</th>\n",
       "    </tr>\n",
       "  </thead>\n",
       "  <tbody>\n",
       "    <tr>\n",
       "      <th>0</th>\n",
       "      <td>2001</td>\n",
       "      <td>5567</td>\n",
       "      <td>C</td>\n",
       "      <td>429.18</td>\n",
       "      <td>4</td>\n",
       "      <td>2024-02-01 00:00:00</td>\n",
       "    </tr>\n",
       "    <tr>\n",
       "      <th>1</th>\n",
       "      <td>2002</td>\n",
       "      <td>4499</td>\n",
       "      <td>A</td>\n",
       "      <td>496.83</td>\n",
       "      <td>1</td>\n",
       "      <td>2024-02-01 00:01:00</td>\n",
       "    </tr>\n",
       "    <tr>\n",
       "      <th>2</th>\n",
       "      <td>2003</td>\n",
       "      <td>4749</td>\n",
       "      <td>C</td>\n",
       "      <td>214.86</td>\n",
       "      <td>2</td>\n",
       "      <td>2024-02-01 00:02:00</td>\n",
       "    </tr>\n",
       "    <tr>\n",
       "      <th>3</th>\n",
       "      <td>2004</td>\n",
       "      <td>1278</td>\n",
       "      <td>C</td>\n",
       "      <td>254.15</td>\n",
       "      <td>1</td>\n",
       "      <td>2024-02-01 00:03:00</td>\n",
       "    </tr>\n",
       "    <tr>\n",
       "      <th>4</th>\n",
       "      <td>2005</td>\n",
       "      <td>2877</td>\n",
       "      <td>A</td>\n",
       "      <td>370.25</td>\n",
       "      <td>3</td>\n",
       "      <td>2024-02-01 00:04:00</td>\n",
       "    </tr>\n",
       "  </tbody>\n",
       "</table>\n",
       "</div>"
      ],
      "text/plain": [
       "   order_id  user_id campaign  amount  items_count  purchase_timestamp\n",
       "0      2001     5567        C  429.18            4 2024-02-01 00:00:00\n",
       "1      2002     4499        A  496.83            1 2024-02-01 00:01:00\n",
       "2      2003     4749        C  214.86            2 2024-02-01 00:02:00\n",
       "3      2004     1278        C  254.15            1 2024-02-01 00:03:00\n",
       "4      2005     2877        A  370.25            3 2024-02-01 00:04:00"
      ]
     },
     "execution_count": 117,
     "metadata": {},
     "output_type": "execute_result"
    }
   ],
   "source": [
    "purchases.head()"
   ]
  },
  {
   "cell_type": "markdown",
   "id": "936e7300-c1ad-45cc-a819-f0a06dc270bc",
   "metadata": {},
   "source": [
    "**1. Определить, какая рекламная кампания привлекла больше всего пользователей.**"
   ]
  },
  {
   "cell_type": "code",
   "execution_count": 120,
   "id": "2833a464-f12d-4c29-b0f6-76fc9541675c",
   "metadata": {},
   "outputs": [
    {
     "name": "stdout",
     "output_type": "stream",
     "text": [
      "Campaign A visits: 2052, campaign B visits: 1972, campaign C visits: 1976\n"
     ]
    }
   ],
   "source": [
    "count_visit_users = site_visits.groupby('campaign', as_index=False)['user_id'].value_counts()\n",
    "group_A_visits = count_visit_users.query('campaign == \"A\"')['count'].sum()\n",
    "group_B_visits = count_visit_users.query('campaign == \"B\"')['count'].sum()\n",
    "group_C_visits = count_visit_users.query('campaign == \"C\"')['count'].sum()\n",
    "print(f'Campaign A visits: {group_A_visits}, campaign B visits: {group_B_visits}, campaign C visits: {group_C_visits}')"
   ]
  },
  {
   "cell_type": "markdown",
   "id": "c2cdbbbf-7a74-432a-ab7b-8ac93b36d59a",
   "metadata": {},
   "source": [
    "Компания А привлекла больше всего пользователей, если смотреть только на посещение сайта по рекламе"
   ]
  },
  {
   "cell_type": "markdown",
   "id": "d1ca4e36-7fe4-4b33-9199-4c47391f4a80",
   "metadata": {},
   "source": [
    "**2. Рассчитать конверсию в покупку для каждой кампании.**"
   ]
  },
  {
   "cell_type": "code",
   "execution_count": 124,
   "id": "5cb3cda1-d1fc-43ac-a030-8fdd9e130676",
   "metadata": {},
   "outputs": [
    {
     "name": "stdout",
     "output_type": "stream",
     "text": [
      "Campaign A buyers: 345, campaign B buyers: 310, campaign C buyers: 303\n"
     ]
    }
   ],
   "source": [
    "buying = purchases.groupby('campaign', as_index=False).value_counts()\n",
    "camp_A_buy = buying.query('campaign == \"A\"')['count'].sum()\n",
    "camp_B_buy = buying.query('campaign == \"B\"')['count'].sum()\n",
    "camp_C_buy = buying.query('campaign == \"C\"')['count'].sum()\n",
    "print(f'Campaign A buyers: {camp_A_buy}, campaign B buyers: {camp_B_buy}, campaign C buyers: {camp_C_buy}')"
   ]
  },
  {
   "cell_type": "markdown",
   "id": "5a9f2594-331d-49ee-96da-220c77948b6b",
   "metadata": {},
   "source": [
    "Теперь мы можем посчитать конверсию в покупку: сколько процентов людей покупают нашу продукцию"
   ]
  },
  {
   "cell_type": "code",
   "execution_count": 127,
   "id": "827ceb22-f1f8-40dc-8557-ce33df21cb1c",
   "metadata": {},
   "outputs": [
    {
     "name": "stdout",
     "output_type": "stream",
     "text": [
      "Conversion to purchase, group A: 16.81%, conversion to purchase, group B: 15.72%, conversion to purchase, group C: 15.33%\n"
     ]
    }
   ],
   "source": [
    "A_percents = round((camp_A_buy / group_A_visits) * 100, 2)\n",
    "B_percents = round((camp_B_buy / group_B_visits) * 100, 2)\n",
    "C_percents = round((camp_C_buy / group_C_visits) * 100, 2)\n",
    "print(f'Conversion to purchase, group A: {str(A_percents) + '%'}, conversion to purchase, group B: {str(B_percents) + '%'}, conversion to purchase, group C: {str(C_percents) + '%'}')"
   ]
  },
  {
   "cell_type": "markdown",
   "id": "175c8bfc-2992-4fcd-a808-c76103bbeaee",
   "metadata": {},
   "source": [
    " Так же можем сказать, что конверсия в покупку у рекламной кампании А выше"
   ]
  },
  {
   "cell_type": "markdown",
   "id": "5d56c242-8eab-4c5e-bb94-0b81fe50458d",
   "metadata": {},
   "source": [
    "**3. Проанализировать средний чек и среднее количество товаров в заказе.**"
   ]
  },
  {
   "cell_type": "code",
   "execution_count": 131,
   "id": "3a4eb3af-0468-4e16-ac26-d4695f4a4e4c",
   "metadata": {},
   "outputs": [
    {
     "name": "stdout",
     "output_type": "stream",
     "text": [
      "Mean receipt A: 271.06, mean receipt B: 282.8, mean receipt C: 283.68\n",
      "Mean items A: 2.5, mean items B: 2.4, mean items C: 2.5\n"
     ]
    }
   ],
   "source": [
    "mean_receipt_A = round(purchases.query('campaign == \"A\"').amount.mean(), 2)\n",
    "mean_receipt_B = round(purchases.query('campaign == \"B\"').amount.mean(), 2)\n",
    "mean_receipt_C = round(purchases.query('campaign == \"C\"').amount.mean(), 2)\n",
    "print(f'Mean receipt A: {mean_receipt_A}, mean receipt B: {mean_receipt_B}, mean receipt C: {mean_receipt_C}')\n",
    "mean_count_items_A = round(purchases.query('campaign == \"A\"').items_count.mean(), 1)\n",
    "mean_count_items_B = round(purchases.query('campaign == \"B\"').items_count.mean(), 1)\n",
    "mean_count_items_C = round(purchases.query('campaign == \"C\"').items_count.mean(), 1)\n",
    "print(f'Mean items A: {mean_count_items_A}, mean items B: {mean_count_items_B}, mean items C: {mean_count_items_C}')"
   ]
  },
  {
   "cell_type": "markdown",
   "id": "1fddd2b7-9251-4b36-9d8a-a15a71630507",
   "metadata": {},
   "source": [
    "Средний чек группы А ниже чем в остальных случаях, но среднее количество вещей в заказе в каждой группе примерно одинаково"
   ]
  },
  {
   "cell_type": "markdown",
   "id": "81f30d4b-8384-4c5e-b68d-de7026533f8a",
   "metadata": {},
   "source": [
    "**4. Определить, есть ли статистически значимые различия в метриках между кампаниями.**"
   ]
  },
  {
   "cell_type": "code",
   "execution_count": 135,
   "id": "5340732c-0c22-41ad-a678-a4bef00b7397",
   "metadata": {},
   "outputs": [
    {
     "data": {
      "text/plain": [
       "F_onewayResult(statistic=0.9163976798894942, pvalue=0.40030863270060635)"
      ]
     },
     "execution_count": 135,
     "metadata": {},
     "output_type": "execute_result"
    }
   ],
   "source": [
    "from scipy.stats import f_oneway\n",
    "f_oneway(purchases.query('campaign == \"A\"').amount, purchases.query('campaign == \"B\"').amount,purchases.query('campaign == \"C\"').amount)"
   ]
  },
  {
   "cell_type": "markdown",
   "id": "34f65c53-ab5b-4291-8ce5-55fb9e2c6f15",
   "metadata": {},
   "source": [
    "Больше всего нас интересует средний чек, ведь именно от него зависит, насколько прибыльным будет наш бизнес. Применив ANOVA-тест мы получили, что p-value > 0.05 а это значит, что статистически значимых различий между компаниями нет"
   ]
  },
  {
   "cell_type": "code",
   "execution_count": null,
   "id": "a9969915-a8c5-4412-9a24-d3e1a6ad34e3",
   "metadata": {},
   "outputs": [],
   "source": []
  }
 ],
 "metadata": {
  "kernelspec": {
   "display_name": "Python [conda env:base] *",
   "language": "python",
   "name": "conda-base-py"
  },
  "language_info": {
   "codemirror_mode": {
    "name": "ipython",
    "version": 3
   },
   "file_extension": ".py",
   "mimetype": "text/x-python",
   "name": "python",
   "nbconvert_exporter": "python",
   "pygments_lexer": "ipython3",
   "version": "3.12.2"
  }
 },
 "nbformat": 4,
 "nbformat_minor": 5
}
